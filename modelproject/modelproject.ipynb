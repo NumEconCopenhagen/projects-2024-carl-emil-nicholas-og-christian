{
 "cells": [
  {
   "cell_type": "markdown",
   "metadata": {},
   "source": [
    "# Natural resources in the Solow model"
   ]
  },
  {
   "cell_type": "code",
   "execution_count": 1,
   "metadata": {},
   "outputs": [],
   "source": [
    "import numpy as np\n",
    "from scipy import optimize\n",
    "import sympy as sm\n",
    "\n",
    "# autoreload modules when code is run\n",
    "%load_ext autoreload\n",
    "%autoreload 2\n",
    "\n",
    "# local modules\n",
    "import modelproject"
   ]
  },
  {
   "cell_type": "markdown",
   "metadata": {},
   "source": [
    "# Model description: Solow model with nautral resources"
   ]
  },
  {
   "cell_type": "markdown",
   "metadata": {},
   "source": [
    "This section introduces the theoretical foundations of the adapted Solow model with natural resources. It outlines the equations of the neoclassical growth model and extends them to include the dynamics of limited resources and climate change. The model describes how economic growth is influenced not only by traditional factors such as labor, capital, and technology but also by the depletion of natural resources and the resulting environmental damage.\n",
    "\n",
    "**Equations for the basic Solow model:**\n",
    "1. Production function (Cobb-Douglas):\n",
    "$$\n",
    "Y_t=K_t^{(\\alpha)}(A_tL_t)^{(1-\\alpha)}\n",
    "$$\n",
    "2. Capital accumulation\n",
    "$$\n",
    "K_{t+1}=S_t+(1-\\delta)K_t,\\, 0<\\delta<1\n",
    "$$\n",
    "3. Laborforce (with constant population growth, n)\n",
    "$$\n",
    "L_{t+1}=(1+n)L_t,\\, -1<n\n",
    "$$\n",
    "4. Tecnological development (with constant tecnological growth rate, g)\n",
    "$$\n",
    "A_{t+1}=(1+g)A_t,\\, 0<g<1\n",
    "$$\n",
    "5. Savings(with constant savings rate)\n",
    "$$\n",
    "S_t=sY_t\n",
    "$$\n",
    "\n",
    "**Equations changes required for the extensions with nautral resources (from \"Introducing advanced Macroeconomics by Hans Whitta and Peter Birch Sørensen, chapter 7):**\n",
    "\n",
    "6. Production function with extension\n",
    "$$\n",
    "Y_t=[1-D_t]K_t^\\alpha(A_tL_T)^{1-\\beta}E_t^\\epsilon,\\, \\, \\alpha,\\beta,\\epsilon>0,\\, \\, \\, \\alpha+\\beta+\\epsilon=1\n",
    "$$\n",
    "7. Climate damages to the production\n",
    "$$\n",
    "D_t=1-(\\frac{R_t}{R_0})^\\phi,\\, \\, \\phi\\geq 0\n",
    "$$\n",
    "8. Exhaustable resource depletion/development (R)\n",
    "$$\n",
    "R_{t+1}=R_t-E_t,\\, \\, R_0\\, \\, given\n",
    "$$\n",
    "9. Exhaustable resources use\n",
    "$$\n",
    "E_t=s_ER_t,\\, \\, 0<s_E<1\n",
    "$$\n",
    "\n",
    "**Capital-output ratio and the transition equation in the extended Solow model (see chapter 7 for derivation):**\n",
    "\n",
    "10. Capital-output ratio in period t\n",
    "$$\n",
    "z_t=\\frac{K_t}{Y_t}=\\frac{K_t^{1-\\alpha}}{(\\frac{R_t}{R_0})^\\phi(A_tL_T)^\\beta E_t^\\epsilon}\n",
    "$$\n",
    "11. Transition equation of the capital output ratio to period t+1\n",
    "$$\n",
    "z_{t+1}=(\\frac{1}{1-sE_t})^{\\epsilon+\\phi}(\\frac{1}{(1+n)(1+g)})^\\beta(s+(1-\\delta)z_t)^{1-\\alpha}z_t^\\alpha\n",
    "$$\n",
    "\n",
    "These equations capture the dynamics of the Solow model with natural resource depletion, providing a framework for analyzing the long-term behavior of an economy facing resource constraints.\n",
    "\n",
    "**Definition of variables in the basic model**\n",
    "\n",
    "Labor (L) and Technology (A) are considered exogenous with constant growth rates.\n",
    "Capital (K) accumulation is influenced by savings and depreciation.\n",
    "\n",
    "**Definition and importance of variables in the extended model**\n",
    "\n",
    "Resource (R) represents an exhaustible natural resource whose usage is integral to production but also leads to production damage due to climate change.\n",
    "Damage (D) reflects the loss in production efficiency due to environmental degradation, modeled as a function of resource usage.\n",
    "\n",
    "**Economic Implications**:\n",
    "The inclusion of an exhaustible resource and its impact on production introduces additional complexity to the Solow model, highlighting the trade-offs between economic growth and environmental sustainability.\n",
    "\n"
   ]
  },
  {
   "cell_type": "markdown",
   "metadata": {},
   "source": [
    "## Numerical solution"
   ]
  },
  {
   "cell_type": "markdown",
   "metadata": {},
   "source": [
    "**Implementation Details**:\n",
    "\n",
    "This section details the implementation of the Solow model in a Python class, Solowclass, which is used to compute the model’s dynamics through numerical methods.\n",
    "\n",
    "**Solving for Steady States**:\n",
    "\n",
    "**Capital Steady State (k):** Calculated for the baseline model, this steady state finds the level of capital per effective worker where capital creation through savings balances with the reductions due to depreciation, population growth, and technological advancement.\n",
    "\n",
    "**Capital-Output Ratio Steady State (z):** In the extended model, this steady state is computed to reflect the balance between capital input and the adjusted output that accounts for resource depletion and damage.\n",
    "\n",
    "**Methodology**:\n",
    "The steady states are found using root-finding techniques applied to the equilibrium equations specified within the Solowclass. These calculations are crucial for understanding the long-term behavior of the economy under different scenarios."
   ]
  },
  {
   "cell_type": "code",
   "execution_count": 14,
   "metadata": {},
   "outputs": [
    {
     "name": "stdout",
     "output_type": "stream",
     "text": [
      "The steady state for k in the standard Solow model is 4.680802838247644\n",
      "The steady state for z in the Solow model with an exhaustable resource and climate change is 4.0913116295145855\n"
     ]
    },
    {
     "data": {
      "image/png": "[encoded data removed]",
      "text/plain": [
       "<Figure size 640x480 with 1 Axes>"
      ]
     },
     "metadata": {},
     "output_type": "display_data"
    }
   ],
   "source": [
    "from modelproject import Solowclass\n",
    "\n",
    "# Initialize the Solow model class\n",
    "model = Solowclass()\n",
    "\n",
    "# Set parameter values\n",
    "model.paramtervalues()\n",
    "\n",
    "# Solving for steady state for capital in the baseline model\n",
    "model.solve_ss_k_par(kss=1)\n",
    "\n",
    "# Solving for steady state for capital-output ratio in the extended model\n",
    "model.solve_ss_z_par(zss=1)\n",
    "\n",
    "# Simulating the model\n",
    "simulation_results = model.simulate(T=100, k0=1, l0=1, a0=1, r0=1)\n"
   ]
  },
  {
   "cell_type": "markdown",
   "metadata": {},
   "source": [
    "# Further analysis\n",
    "\n",
    "**Parameter Sensitivity**:\n",
    "\n",
    "This analytical section explores how variations in key parameters affect the model's outcomes. Changes in the savings rate (s) and the rate of resource consumption (sE) are tested to examine their impacts on the economy.\n",
    "\n",
    "**Scenario Simulation**:\n",
    "\n",
    "The model is re-simulated with adjusted parameters to observe the effects on capital accumulation and the capital-output ratio. This helps in assessing the resilience of the economy to changes in economic policies or resource availability.\n",
    "\n",
    "**Insights**:\n",
    "\n",
    "The results provide insights into the potential policy measures that could mitigate the adverse effects of resource depletion and climate change, suggesting more sustainable economic strategies."
   ]
  },
  {
   "cell_type": "markdown",
   "metadata": {},
   "source": [
    "Explore the model's behavior under different parameter values or initial conditions, such as varying the savings rate or the rate of resource consumption:"
   ]
  },
  {
   "cell_type": "code",
   "execution_count": 15,
   "metadata": {},
   "outputs": [
    {
     "data": {
      "image/png": "[encoded data removed]",
      "text/plain": [
       "<Figure size 640x480 with 1 Axes>"
      ]
     },
     "metadata": {},
     "output_type": "display_data"
    }
   ],
   "source": [
    "# Adjust parameters and re-simulate to observe different scenarios\n",
    "model.par.s = 0.4  # Increase savings rate\n",
    "model.par.sE = 0.01  # Increase the fraction of the resource consumed each period\n",
    "\n",
    "# Re-run simulation with adjusted parameters\n",
    "adjusted_simulation_results = model.simulate(T=100, k0=1, l0=1, a0=1, r0=1)\n"
   ]
  },
  {
   "cell_type": "markdown",
   "metadata": {},
   "source": [
    "# Plotting and Visualization \n",
    "**Data Presentation**:\n",
    "\n",
    "Visual representations of the simulation results are provided to illustrate the dynamic paths of capital and the capital-output ratio over time. These plots are critical for visually capturing the model's response to different economic conditions.\n",
    "\n",
    "**Comparative Analysis**:\n",
    "\n",
    "The Additional plots at the end comparing the original and adjusted simulations highlight the potential effects of policy adjustments or changes in economic behavior. This comparative visualization aids in understanding the practical implications of theoretical modifications to the model."
   ]
  },
  {
   "cell_type": "markdown",
   "metadata": {},
   "source": [
    "import matplotlib.pyplot as plt\n",
    "\n",
    "# The original simulation results\n",
    "plt.figure(figsize=(10, 5))\n",
    "plt.plot(simulation_results.k, label='Capital over time')\n",
    "plt.plot(simulation_results.z, label='Capital-output ratio over time', linestyle='--')\n",
    "plt.title('Solow Model Simulation with Resource Limitation and Climate Change')\n",
    "plt.xlabel('Time')\n",
    "plt.ylabel('Values')\n",
    "plt.legend()\n",
    "plt.show()\n",
    "\n",
    "# The adjusted simulation for comparison\n",
    "plt.figure(figsize=(10, 5))\n",
    "plt.plot(adjusted_simulation_results.k, label='Adjusted Capital over time')\n",
    "plt.plot(adjusted_simulation_results.z, label='Adjusted Capital-output ratio over time', linestyle='--')\n",
    "plt.title('Adjusted Solow Model Simulation')\n",
    "plt.xlabel('Time')\n",
    "plt.ylabel('Values')\n",
    "plt.legend()\n",
    "plt.show()"
   ]
  },
  {
   "cell_type": "markdown",
   "metadata": {},
   "source": [
    "# Conclusion\n",
    "We find that the capital-output ratio in the natural resource scenario converges to a level around 5. This is similar to the level found by Thomas Piketty in the beginning of the 21st century. However, our starting point is at a much lower level at 2,5 - which is significantly below the steady state. Therefore, it seems from our model there will be a larger increase in capital than output over the next 100 periods in the convergence towards steady state. "
   ]
  }
 ],
 "metadata": {
  "kernelspec": {
   "display_name": "base",
   "language": "python",
   "name": "python3"
  },
  "language_info": {
   "codemirror_mode": {
    "name": "ipython",
    "version": 3
   },
   "file_extension": ".py",
   "mimetype": "text/x-python",
   "name": "python",
   "nbconvert_exporter": "python",
   "pygments_lexer": "ipython3",
   "version": "3.11.7"
  },
  "toc-autonumbering": true,
  "vscode": {
   "interpreter": {
    "hash": "47ef90cdf3004d3f859f1fb202523c65c07ba7c22eefd261b181f4744e2d0403"
   }
  }
 },
 "nbformat": 4,
 "nbformat_minor": 4
}
